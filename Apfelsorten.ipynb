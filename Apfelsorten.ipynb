{
  "nbformat": 4,
  "nbformat_minor": 0,
  "metadata": {
    "colab": {
      "name": "Apfelsorten.ipynb",
      "provenance": [],
      "collapsed_sections": [],
      "authorship_tag": "ABX9TyOxKa/Obln4DqVW4EMFbyTt",
      "include_colab_link": true
    },
    "kernelspec": {
      "name": "python3",
      "display_name": "Python 3"
    },
    "language_info": {
      "name": "python"
    }
  },
  "cells": [
    {
      "cell_type": "markdown",
      "metadata": {
        "id": "view-in-github",
        "colab_type": "text"
      },
      "source": [
        "<a href=\"https://colab.research.google.com/github/ollihansen90/apfelsorten/blob/main/Apfelsorten.ipynb\" target=\"_parent\"><img src=\"https://colab.research.google.com/assets/colab-badge.svg\" alt=\"Open In Colab\"/></a>"
      ]
    },
    {
      "cell_type": "code",
      "execution_count": 144,
      "metadata": {
        "colab": {
          "base_uri": "https://localhost:8080/"
        },
        "id": "0ub_OcpNgi7p",
        "outputId": "8f3b80c1-e6d5-4e9c-859a-6a6269667bf8"
      },
      "outputs": [
        {
          "output_type": "stream",
          "name": "stdout",
          "text": [
            "A 432\n",
            "B 1171\n",
            "C 1694\n",
            "D 2065\n",
            "E 2416\n",
            "F 2756\n",
            "G 3378\n",
            "H 3724\n",
            "I 3788\n",
            "J 3957\n",
            "K 4292\n",
            "L 4607\n",
            "M 5096\n",
            "N 5287\n",
            "O 5411\n",
            "P 5906\n",
            "Q 5931\n",
            "R 6801\n",
            "S 7655\n",
            "T 7864\n",
            "U 7899\n",
            "V 7999\n",
            "W 8363\n",
            "X 8366\n",
            "Y 8404\n",
            "Z 8480\n",
            "['A', 'B', 'C', 'D', 'E', 'F', 'G', 'H', 'I', 'J', 'K', 'L', 'M', 'N', 'O', 'P', 'Q', 'R', 'S', 'T', 'U', 'V', 'W', 'X', 'Y', 'Z', 'a', 'b', 'c', 'd', 'e', 'f', 'g', 'h', 'i', 'j', 'k', 'l', 'm', 'n', 'o', 'p', 'q', 'r', 's', 't', 'u', 'v', 'w', 'x', 'y', 'z']\n"
          ]
        }
      ],
      "source": [
        "import requests\n",
        "from bs4 import BeautifulSoup\n",
        "\n",
        "link = \"https://de.wikipedia.org/wiki/Liste_von_Apfelsorten/\"\n",
        "\n",
        "sortenliste = []\n",
        "alphabet = \"abcdefghijklmnopqrstuvwxyz\".upper()\n",
        "#alphabet = \"X\"\n",
        "for b in alphabet:\n",
        "    r = requests.get(link+b)\n",
        "    soup = BeautifulSoup(r.text)\n",
        "    names = [inhalt.find(\"td\").text.strip() for inhalt in soup.find_all(\"tr\")[1:]]\n",
        "    sortenliste.extend(names)\n",
        "    print(b, len(sortenliste))\n",
        "#print(sortenliste)\n",
        "\n",
        "def replace(text, austausch):\n",
        "    for key in austausch.keys():\n",
        "        text = text.replace(key, austausch[key])\n",
        "    return text\n",
        "austausch = {\n",
        "    '&': \"\", '(': \"\", ')': \"\", ',': \"\", '.': \"\", '/': \"\", ':': \"\", '!': \"\", \"'\": \"\", '-': \"\", '0': \"\", '1': \"\", '2': \"\", '3': \"\", '4': \"\", '5': \"\", '6': \"\", '7': \"\", '8': \"\", '9': \"\", '[': \"\", ']': \"\",\n",
        "    'Ä': \"Ae\", 'Å': \"A\", 'É': \"E\", 'ß': \"ss\", 'á': \"a\", 'â': \"a\", 'ä': \"ae\", 'å': \"a\",  'ç': \"c\", 'è': \"e\",  'é': \"e\",  'í': \"i\",  'ï': \"i\", 'ó': \"o\",  'ö': \"oe\", 'ü': \"ue\", 'ý': \"y\",  'č': \"c\",  'ę': \"e\",  'ğ': \"g\",  'Š': \"S\",  'š': \"s\",\n",
        "    '´': \"\", 'À': \"A\", 'Ö': \"Oe\", 'ê': \"e\", 'ë': \"e\", 'ô': \"o\", 'õ': \"o\", 'ø': \"o\", 'û': \"u\", 'Č': \"C\", 'œ': \"oe\", 'Ř': \"R\", 'ů': \"u\", '’': \"\"\n",
        "}\n",
        "\n",
        "sortenliste_clear = []\n",
        "for apfel in sortenliste:\n",
        "    temp = replace(apfel.split(\" (oder\")[0], austausch).replace(\" \", \"\")\n",
        "    sortenliste_clear.append(temp)\n",
        "\n",
        "with open(\"apfelsorten.txt\", \"w\", encoding=\"utf-8\") as file:\n",
        "    for apfel in sortenliste_clear:\n",
        "        file.write(apfel+ \"\\n\")\n",
        "buchstabenliste = []\n",
        "for apfel in sortenliste_clear:\n",
        "    for b in apfel:\n",
        "        if b in buchstabenliste:\n",
        "            continue\n",
        "        else:\n",
        "            buchstabenliste.append(b)\n",
        "\n",
        "print(sorted(buchstabenliste))"
      ]
    },
    {
      "cell_type": "code",
      "source": [
        "from time import time\n",
        "import random\n",
        "\n",
        "#sortenliste_clear = [apfel for apfel in sortenliste if \" \" not in apfel]\n",
        "n = len(sortenliste_clear)\n",
        "name = f\"{replace(sortenliste_clear[int(random.random()*n)], austausch)}_{int(time()*100)}\"\n",
        "print(name)"
      ],
      "metadata": {
        "colab": {
          "base_uri": "https://localhost:8080/"
        },
        "id": "U5Lr-UEWLTyR",
        "outputId": "9246ba7d-3187-4781-8636-27173b06d034"
      },
      "execution_count": 134,
      "outputs": [
        {
          "output_type": "stream",
          "name": "stdout",
          "text": [
            "Frankensteiner_166039536482\n"
          ]
        }
      ]
    },
    {
      "cell_type": "code",
      "source": [
        ""
      ],
      "metadata": {
        "id": "fzjqHzfFP0Ei"
      },
      "execution_count": 138,
      "outputs": []
    },
    {
      "cell_type": "code",
      "source": [
        "import requests\n",
        "r = requests.get(\"https://raw.githubusercontent.com/ollihansen90/apfelsorten/main/apfelsorten.txt\")\n",
        "print(r.text.split(\"\\n\")[:100])"
      ],
      "metadata": {
        "colab": {
          "base_uri": "https://localhost:8080/"
        },
        "id": "3GWLcUowVHih",
        "outputId": "23d390e2-7416-4489-ba3c-3e1e019e78a9"
      },
      "execution_count": 145,
      "outputs": [
        {
          "output_type": "stream",
          "name": "stdout",
          "text": [
            "['ATrocheRouge', 'ADWAtkins', 'AWBarnes', 'Aachackerer', 'AachenerHausapfel', 'AachenerHausaepfelchen', 'AargauerHerrenapfel', 'AargauerJubilaeumsapfel', 'AargauerRosen', 'Abbondanza', 'AbbotsEarly', 'Abernathy', 'Abondance', 'Abraham', 'AbrahamsApfel', 'Abram', 'Accomack', 'Aceymac', 'AchimerGoldrenette', 'Acker', 'AeckerleApfel', 'Aeckerliapfel', 'AcklamRusset', 'Acme', 'AdaRed', 'AdamsApfel', 'AdamsParmaene', 'AdamsPearmain', 'Adamsapfel', 'Adanac', 'Addie', 'AdenawsRambourRenette', 'Adersleber', 'AdersleberCalville', 'AdersleberKalvill', 'AdersleberKalvillNoIII', 'Adirondack', 'Admirable', 'Admiral', 'AdmiralSchley', 'Advance', 'Adventsapfel', 'AerliesRedFlesh', 'AfalEnlli', 'AgaApfel', 'Agatapfel', 'AgatheVonKlanxbuell', 'AegidienbergerSeidenhemdchen', 'AhamerOntario', 'Ahltaler', 'AholanAikainenVaha', 'Ahra', 'Ahrina', 'Ahrista', 'AiaIlu', 'AigreOrange', 'Aiken', 'AirlieRedFlesh', 'Aivaniya', 'Aiwanija', 'Ak', 'AkAlma', 'Akane', 'Akeroe', 'Akeroe', 'AkersRed', 'AkiFu', 'Akin', 'AkinRedWinter', 'AkitaGold', 'AlabamaBeauty', 'Alander', 'Alant', 'Alantapfel', 'AlastairCannonWhite', 'AlbanyBeauty', 'AlbemarlePippin', 'AlbermarlePippin', 'Albert', 'Albertin', 'Albisser', 'Albrechtapfel', 'Albrechtsapfel', 'Alcham', 'AldenhamBlenheim', 'AldenhamPurple', 'AldenhamPurpur', 'Alderman', 'AldingerGeorgCave', 'AldingersGeorgCave', 'AldwickBeauty', 'AleutenApfel', 'Alexander', 'AlexanderTillage', 'AlexandraApfel', 'Alexis', 'Alfa', 'AlfredJolibois', 'Alfriston', 'Alice']\n"
          ]
        }
      ]
    }
  ]
}